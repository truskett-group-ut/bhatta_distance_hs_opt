{
 "cells": [
  {
   "cell_type": "markdown",
   "metadata": {},
   "source": [
    "# Development notebook for optimization of HS mixtures"
   ]
  },
  {
   "cell_type": "markdown",
   "metadata": {},
   "source": [
    "---\n",
    "## Datastructure for HS optimization variables\n",
    "\n",
    "Q = number of types\n",
    "\n",
    "N = number of particles\n",
    "\n",
    "File to store in json format and read into a dictionary:\n",
    "\n",
    "{\n",
    "\n",
    "    'type_to_diameter': [d1, d2, ..., dQ],\n",
    "    \n",
    "    'particle_to_type': [t1, t2, ..., tN]\n",
    "    \n",
    " }\n",
    " \n",
    " ---"
   ]
  },
  {
   "cell_type": "markdown",
   "metadata": {},
   "source": [
    "---\n",
    "\n",
    "## XYZ reader\n",
    "\n",
    "Returns a ''trajectory'' datastructure:\n",
    "\n",
    "{\n",
    "\n",
    "    'N': number,\n",
    "    \n",
    "    'M': number,\n",
    "\n",
    "    'box': (Lx, Ly, Lz),\n",
    "    \n",
    "    'ids': [id_1, id_2, ..., id_3],\n",
    "    \n",
    "    'frames': [frame_1, frame_2, ..., frame_M],\n",
    "\n",
    "}\n",
    "\n",
    "where each frame is an order preserved (to maintain identities) list of coordinates:\n",
    "\n",
    "[\n",
    "[x1, y1, z1], \n",
    "[x2, y2, z2], \n",
    "..., \n",
    "[xN, yN, zN]\n",
    "]"
   ]
  },
  {
   "cell_type": "code",
   "execution_count": 162,
   "metadata": {
    "collapsed": true
   },
   "outputs": [],
   "source": [
    "from numpy import array, std, mean, all, floor\n",
    "import re"
   ]
  },
  {
   "cell_type": "code",
   "execution_count": 244,
   "metadata": {
    "collapsed": false
   },
   "outputs": [],
   "source": [
    "def ReadXYZ(filename):\n",
    "    #regex used to parse the data\n",
    "    xyz_regex = r'(?:([a-zA-Z]+)\\s+([0-9\\.e\\-\\+]+)\\s+([0-9\\.e\\-\\+]+)\\s+([0-9\\.e\\-\\+]+)\\s+(?:[0-9\\.e\\-\\+]+))'\n",
    "    L_regex = r'(?:(?:L\\s*=\\s*([0-9\\.e\\-\\+]+))|(?:Lx\\s*=\\s*([0-9\\.e\\-\\+]+)\\s+Ly\\s*=\\s*([0-9\\.e\\-\\+]+)\\s+Lz\\s*=\\s*([0-9\\.e\\-\\+]+)))'\n",
    "    \n",
    "    #read in the data\n",
    "    with open(filename, \"r\") as ins:\n",
    "        frames = [] \n",
    "        Ns = []\n",
    "        Lxs = []\n",
    "        Lys = []\n",
    "        Lzs = []\n",
    "        ids_all = []\n",
    "        \n",
    "        ids = []\n",
    "        coords, coords_count = [], 0\n",
    "        for line in ins:\n",
    "            search = re.search(xyz_regex, line)\n",
    "            if search:\n",
    "                coords.append(array([float(search.group(2)), float(search.group(3)), float(search.group(4))]))\n",
    "                ids.append(search.group(1))\n",
    "                coords_count = coords_count + 1\n",
    "            elif coords:\n",
    "                coords = array(coords)\n",
    "                ids = array(ids)\n",
    "                sorter = ids.argsort()\n",
    "                coords = coords[sorter]\n",
    "                ids = ids[sorter]\n",
    "                frames.append(array(coords))\n",
    "                Ns.append(coords_count)\n",
    "                ids_all.append(ids)\n",
    "                coords, coords_count = [], 0\n",
    "                ids = []\n",
    "                search_L = re.search(L_regex, line)\n",
    "                if search_L:\n",
    "                    if search_L.group(1):\n",
    "                        Lx, Ly, Lz = float(search_L.group(1)), float(search_L.group(1)), float(search_L.group(1))\n",
    "                    else:\n",
    "                        Lx, Ly, Lz = float(search_L.group(2)), float(search_L.group(3)), float(search_L.group(4))\n",
    "                    Lxs.append(Lx), Lys.append(Ly), Lzs.append(Lz)\n",
    "            else:\n",
    "                search_L = re.search(L_regex, line)\n",
    "                if search_L:\n",
    "                    if search_L.group(1):\n",
    "                        Lx, Ly, Lz = float(search_L.group(1)), float(search_L.group(1)), float(search_L.group(1))\n",
    "                    else:\n",
    "                        Lx, Ly, Lz = float(search_L.group(2)), float(search_L.group(3)), float(search_L.group(4))\n",
    "                    Lxs.append(Lx), Lys.append(Ly), Lzs.append(Lz)\n",
    "                    \n",
    "        #append final frame\n",
    "        coords = array(coords)\n",
    "        ids = array(ids)\n",
    "        sorter = ids.argsort()\n",
    "        coords = coords[sorter]\n",
    "        ids = ids[sorter]\n",
    "        frames.append(array(coords))     \n",
    "        Ns.append(coords_count)\n",
    "        ids_all.append(ids)\n",
    "        \n",
    "    #check that all frames yielded the same number of particles\n",
    "    if len(set(Ns)) != 1:\n",
    "        raise Exception('Inconsistent number of particles!')\n",
    "    \n",
    "    #check for coherent sorting\n",
    "    if not all(ids_all[0] == ids_all):\n",
    "        raise Exception('Inconsistent particle ids!')\n",
    "    \n",
    "    #check that all box lengths are the same\n",
    "    if std(Lxs)/mean(Lxs) >= 0.000001:\n",
    "        raise Exception('Inconsistent box lengths!')\n",
    "    if std(Lys)/mean(Lys) >= 0.000001:\n",
    "        raise Exception('Inconsistent box lengths!')\n",
    "    if std(Lzs)/(mean(Lzs) + 0.000001) >= 0.000001:\n",
    "        raise Exception('Inconsistent box lengths!')\n",
    "        \n",
    "    # (*it).rx = (*it).rx - floor((*it).rx / state.L)*state.L;\n",
    "    \n",
    "    #set box lengths\n",
    "    Lx, Ly, Lz = Lxs[0], Lys[0], Lzs[0]\n",
    "    box = array([Lx, Ly, Lz])\n",
    "    \n",
    "    #enforce periodic wrapping in case of rounding errors in the xyz file\n",
    "    frames = array(frames)\n",
    "    frames = frames - floor(frames / box)*box\n",
    "    \n",
    "    return {'N': Ns[0], 'M': len(frames), 'box': box, 'ids': ids_all[0], 'frames': frames}"
   ]
  },
  {
   "cell_type": "code",
   "execution_count": 245,
   "metadata": {
    "collapsed": false
   },
   "outputs": [],
   "source": [
    "trajectory = ReadXYZ('./data/trajectory.xyz')"
   ]
  },
  {
   "cell_type": "code",
   "execution_count": 249,
   "metadata": {
    "collapsed": false
   },
   "outputs": [
    {
     "data": {
      "text/plain": [
       "array([ 7.97421,  7.97421,  7.97421])"
      ]
     },
     "execution_count": 249,
     "metadata": {},
     "output_type": "execute_result"
    }
   ],
   "source": [
    "trajectory['box']"
   ]
  },
  {
   "cell_type": "code",
   "execution_count": 248,
   "metadata": {
    "collapsed": false
   },
   "outputs": [
    {
     "data": {
      "text/plain": [
       "array([[  2.83194000e+00,   1.90033000e+00,   5.75450000e+00],\n",
       "       [  2.57887000e+00,   8.66632000e-01,   4.03218000e+00],\n",
       "       [  6.17701000e-01,   2.99394000e+00,   5.35928000e+00],\n",
       "       [  4.55372000e+00,   4.76227000e+00,   4.35112000e+00],\n",
       "       [  2.48532000e+00,   1.97821000e-01,   3.27343000e+00],\n",
       "       [  2.54773000e+00,   5.12532000e-03,   1.82228000e+00],\n",
       "       [  6.22561000e+00,   7.19774000e+00,   6.22706000e+00],\n",
       "       [  6.07301000e+00,   1.12606000e+00,   5.73328000e+00],\n",
       "       [  4.04123000e+00,   3.29751000e+00,   5.06501000e+00],\n",
       "       [  2.61930000e+00,   1.18638000e+00,   2.97723000e+00],\n",
       "       [  2.12811000e-01,   7.51890000e+00,   5.99431000e+00],\n",
       "       [  2.21732000e+00,   2.12719000e+00,   7.18391000e+00]])"
      ]
     },
     "execution_count": 248,
     "metadata": {},
     "output_type": "execute_result"
    }
   ],
   "source": [
    "trajectory['frames'][0][0:12]"
   ]
  },
  {
   "cell_type": "markdown",
   "metadata": {},
   "source": [
    "---"
   ]
  },
  {
   "cell_type": "markdown",
   "metadata": {},
   "source": [
    "---\n",
    "\n",
    "## Build cell lists for frames datastructure to expedite overlap checking\n",
    "\n",
    "returns a modified trajectory entity ala:\n",
    "\n",
    "{\n",
    "\n",
    "    'N': number,\n",
    "    \n",
    "    'M': number,\n",
    "\n",
    "    'box': (Lx, Ly, Lz),\n",
    "    \n",
    "    'ids': [id_1, id_2, ..., id_3],\n",
    "    \n",
    "    'frames': [frame_1, frame_2, ..., frame_M],\n",
    "    \n",
    "    'cell_nums': (ncx, ncy, ncz),\n",
    "    \n",
    "    'cell_size' (Lcx, Lcy, Lcz),\n",
    "    \n",
    "    'cell_lists' [cell_list_1, cell_list_2, ..., cell_list_M]\n",
    "\n",
    "}\n"
   ]
  },
  {
   "cell_type": "code",
   "execution_count": 211,
   "metadata": {
    "collapsed": false
   },
   "outputs": [],
   "source": [
    "from numba import jit\n",
    "from numpy import empty\n",
    "from copy import deepcopy"
   ]
  },
  {
   "cell_type": "code",
   "execution_count": 314,
   "metadata": {
    "collapsed": false
   },
   "outputs": [],
   "source": [
    "@jit(cache=True)\n",
    "def MakeCellLists(state, trajectory):\n",
    "    \n",
    "    #augmented trajectory\n",
    "    trajectory['cell_lists'] = []\n",
    "    \n",
    "    #identify the number of cells in each direction with a minimum of 1\n",
    "    dmax = max(state['type_to_diameter'])\n",
    "    cell_nums = trajectory['box'] / dmax\n",
    "    cell_nums = maximum(1, cell_nums.astype(int))\n",
    "    cell_size = trajectory['box'] / cell_nums.astype(float)\n",
    "    \n",
    "    #loop over the frames and make a cell list (must be done manually to ensure lists are preserved)\n",
    "    cell_list = empty(cell_nums, dtype=object)\n",
    "    for cellx in range(cell_nums[0]):\n",
    "        for celly in range(cell_nums[1]):\n",
    "            for cellz in range(cell_nums[2]):\n",
    "                cell_list[cellx, celly, cellz] = []\n",
    "    \n",
    "    #add the number of cells\n",
    "    trajectory['cell_nums'] = cell_nums\n",
    "    trajectory['cell_size'] = cell_size\n",
    "    \n",
    "    #build the cell list\n",
    "    for frame in trajectory['frames']:\n",
    "        cells = frame / cell_size\n",
    "        cells = cells.astype(int)\n",
    "        cell_list_frame = deepcopy(cell_list)\n",
    "        for i in range(trajectory['N']):\n",
    "            cellx, celly, cellz = cells[i][0], cells[i][1], cells[i][2]\n",
    "            cell_list_frame[cellx, celly, cellz].append(i) \n",
    "            trajectory['cell_lists'].append(cell_list_frame)\n",
    "\n",
    "    return None"
   ]
  },
  {
   "cell_type": "code",
   "execution_count": 470,
   "metadata": {
    "collapsed": true
   },
   "outputs": [],
   "source": [
    "trajectory = ReadXYZ('./data/trajectory.xyz.filepart')"
   ]
  },
  {
   "cell_type": "code",
   "execution_count": 471,
   "metadata": {
    "collapsed": false
   },
   "outputs": [],
   "source": [
    "state = {'type_to_diameter': [1.7382931]}\n",
    "MakeCellLists(state, trajectory)"
   ]
  },
  {
   "cell_type": "code",
   "execution_count": 469,
   "metadata": {
    "collapsed": false
   },
   "outputs": [
    {
     "data": {
      "text/plain": [
       "100"
      ]
     },
     "execution_count": 469,
     "metadata": {},
     "output_type": "execute_result"
    }
   ],
   "source": [
    "trajectory['M']"
   ]
  },
  {
   "cell_type": "code",
   "execution_count": 313,
   "metadata": {
    "collapsed": false
   },
   "outputs": [
    {
     "data": {
      "text/plain": [
       "array([[[[17, 125, 181, 288], [84, 117, 169, 266], [168, 242, 270],\n",
       "         [119, 183, 256, 269]],\n",
       "        [[10, 291], [157, 193, 250, 281, 282],\n",
       "         [33, 70, 105, 110, 172, 239], [29, 96, 171, 221, 261]],\n",
       "        [[6, 77, 148], [68, 71, 86, 200, 284], [14, 173, 210, 215],\n",
       "         [57, 76, 179, 180, 188, 247]],\n",
       "        [[25, 47, 133, 152, 285], [191, 265], [177, 205, 249, 262, 286],\n",
       "         [53, 126, 187, 278]]],\n",
       "\n",
       "       [[[27, 39, 66, 150, 293], [104, 123, 137, 248],\n",
       "         [120, 121, 128, 131, 254, 259], [141, 175, 194, 201, 211]],\n",
       "        [[36, 55, 69, 80, 196, 294], [49, 54, 114, 122, 228, 236],\n",
       "         [111, 158, 186, 233, 238], [62, 98, 132, 135]],\n",
       "        [[13, 64, 100, 182, 204], [30, 59, 217, 255],\n",
       "         [8, 22, 73, 75, 220, 252], [19, 31, 40, 99, 226]],\n",
       "        [[21, 174, 176, 289], [4, 50, 103, 246, 260],\n",
       "         [3, 102, 116, 138, 192, 271], [26, 161, 229, 279]]],\n",
       "\n",
       "       [[[2, 24, 35, 37, 41, 45, 51, 124, 216], [32, 78, 101, 203, 213],\n",
       "         [90, 92, 146, 202, 272], [48, 212, 237, 287]],\n",
       "        [[1, 9, 12, 46, 72, 81, 127], [97, 115, 218, 219],\n",
       "         [88, 113, 144, 231, 235], [58, 79, 112, 232, 243]],\n",
       "        [[170, 199, 257], [95, 142, 156, 178, 224, 268],\n",
       "         [129, 134, 165, 214], [151, 155, 197, 245, 299]],\n",
       "        [[18, 43, 65, 189, 298], [159, 230, 267], [106, 166, 223],\n",
       "         [107, 108, 209, 296]]],\n",
       "\n",
       "       [[[56, 61, 93, 153, 167, 240], [16, 44, 67, 74, 207, 277],\n",
       "         [34, 190, 225], [82, 85, 143, 149, 263]],\n",
       "        [[23, 52, 63, 91, 184, 290], [60, 109, 163, 195, 276],\n",
       "         [118, 160, 244, 253], [83, 89, 154, 206, 234]],\n",
       "        [[0, 15, 20, 208, 295, 297], [11, 42, 164, 241, 273],\n",
       "         [38, 136, 140, 258], [94, 130, 227, 264]],\n",
       "        [[7, 222, 283], [5, 28, 139, 162, 280, 292], [87, 185, 251, 275],\n",
       "         [145, 147, 198, 274]]]], dtype=object)"
      ]
     },
     "execution_count": 313,
     "metadata": {},
     "output_type": "execute_result"
    }
   ],
   "source": [
    "trajectory['cell_lists'][0]"
   ]
  },
  {
   "cell_type": "code",
   "execution_count": null,
   "metadata": {
    "collapsed": true
   },
   "outputs": [],
   "source": []
  },
  {
   "cell_type": "markdown",
   "metadata": {},
   "source": [
    "## Calculate maximum particle diameters allowed for each particle across all frames"
   ]
  },
  {
   "cell_type": "code",
   "execution_count": 450,
   "metadata": {
    "collapsed": true
   },
   "outputs": [],
   "source": [
    "from numpy import minimum, rint, sqrt, power"
   ]
  },
  {
   "cell_type": "code",
   "execution_count": 494,
   "metadata": {
    "collapsed": true
   },
   "outputs": [],
   "source": [
    "@jit(nopython=True)\n",
    "def MaximumDiameters(state, trajectory):\n",
    "    #explicitly get a few variables for succinct representation\n",
    "    box, N, M = trajectory['box'], trajectory['N'], trajectory['M']\n",
    "    cell_nums = trajectory['cell_nums'].astype(int)\n",
    "    cell_size = trajectory['cell_size']\n",
    "    particle_to_type = state['particle_to_type']\n",
    "    type_to_diameter = state['type_to_diameter']\n",
    "    L_min = min(box)\n",
    "    \n",
    "    #initialize the matrix of values\n",
    "    diameter_stats = zeros((N, M))\n",
    "    \n",
    "    #loop over the frames and use the cell lists to calculate the maximum diameter allowed\n",
    "    for m in range(M):\n",
    "        if m % 100 == 0:\n",
    "            print m\n",
    "        \n",
    "        #get the relevant frame and loop over particles\n",
    "        frame = trajectory['frames'][m]\n",
    "        cell_list = trajectory['cell_lists'][m]\n",
    "        for n in range(N):\n",
    "            \n",
    "            #single particle coordinate and corresponding cell\n",
    "            coord = frame[n]\n",
    "            diameter = type_to_diameter[particle_to_type[n]]\n",
    "            cell = coord / cell_size\n",
    "            cell = cell.astype(int)\n",
    "            \n",
    "            #loop over neighbor cells with periodic conditions but only if it makes sense (4 or more cells)\n",
    "            diameter_max = L_min\n",
    "            ncx_max, ncy_max, ncz_max = minimum(2, cell_nums-1)\n",
    "            for i in range(-1, ncx_max):\n",
    "                for j in range(-1, ncy_max):\n",
    "                    for k in range(-1, ncz_max):\n",
    "                        neighbor_cell = cell + array([i, j, k]).astype(int)\n",
    "                        neighbor_cell = neighbor_cell - (neighbor_cell/cell_nums)*cell_nums\n",
    "                        ncx, ncy, ncz = neighbor_cell\n",
    "                        #loop over the particles in that cell and find the maximum allowed diameter for that particle\n",
    "                        for nn in cell_list[ncx][ncy][ncz]:\n",
    "                            neighbor_coord = frame[nn]\n",
    "                            neighbor_diameter = type_to_diameter[particle_to_type[nn]]\n",
    "                            #peridically wrapped distance\n",
    "                            R = coord - neighbor_coord\n",
    "                            R = R - rint(R/box)*box\n",
    "                            R = sqrt(sum(power(R, 2.0)))\n",
    "                            diameter_max_test = (n != nn)*(2.0*R - neighbor_diameter) + (n == nn)*L_min\n",
    "                            diameter_max = min(diameter_max, diameter_max_test)\n",
    "                            \n",
    "            #insert the maximum allowed diameter so as to not generate an overlap                \n",
    "            diameter_stats[n][m] = diameter_max\n",
    "                        \n",
    "    return diameter_stats"
   ]
  },
  {
   "cell_type": "code",
   "execution_count": 487,
   "metadata": {
    "collapsed": false
   },
   "outputs": [],
   "source": [
    "state = {'particle_to_type': array(range(300)).astype(int),\n",
    "         'type_to_diameter': array([1.0 for i in range(300)])}"
   ]
  },
  {
   "cell_type": "code",
   "execution_count": 488,
   "metadata": {
    "collapsed": false
   },
   "outputs": [],
   "source": [
    "trajectory['M'] = 100\n",
    "trajectory['frames'] = trajectory['frames'][:100]\n",
    "trajectory['cell_lists'] = trajectory['cell_lists'][:100]"
   ]
  },
  {
   "cell_type": "code",
   "execution_count": 495,
   "metadata": {
    "collapsed": false
   },
   "outputs": [
    {
     "ename": "TypingError",
     "evalue": "Caused By:\nTraceback (most recent call last):\n  File \"C:\\Users\\rbj428\\AppData\\Local\\Continuum\\Anaconda2_3\\lib\\site-packages\\numba\\compiler.py\", line 228, in run\n    stage()\n  File \"C:\\Users\\rbj428\\AppData\\Local\\Continuum\\Anaconda2_3\\lib\\site-packages\\numba\\compiler.py\", line 442, in stage_nopython_frontend\n    self.locals)\n  File \"C:\\Users\\rbj428\\AppData\\Local\\Continuum\\Anaconda2_3\\lib\\site-packages\\numba\\compiler.py\", line 794, in type_inference_stage\n    infer.propagate()\n  File \"C:\\Users\\rbj428\\AppData\\Local\\Continuum\\Anaconda2_3\\lib\\site-packages\\numba\\typeinfer.py\", line 767, in propagate\n    raise errors[0]\nTypingError: Invalid usage of getitem with parameters (pyobject, const('box'))\n * parameterized\nFile \"<ipython-input-494-294dbe1a32d4>\", line 4\n[1] During: typing of intrinsic-call at <ipython-input-494-294dbe1a32d4> (4)\n[2] During: typing of static-get-item at <ipython-input-494-294dbe1a32d4> (4)\n\nFailed at nopython (nopython frontend)\nInvalid usage of getitem with parameters (pyobject, const('box'))\n * parameterized\nFile \"<ipython-input-494-294dbe1a32d4>\", line 4\n[1] During: typing of intrinsic-call at <ipython-input-494-294dbe1a32d4> (4)\n[2] During: typing of static-get-item at <ipython-input-494-294dbe1a32d4> (4)\n\nThis error may have been caused by the following argument(s):\n- argument 0: cannot determine Numba type of <type 'dict'>\n- argument 1: cannot determine Numba type of <type 'dict'>\n",
     "output_type": "error",
     "traceback": [
      "\u001b[0;31m---------------------------------------------------------------------------\u001b[0m",
      "\u001b[0;31mTypingError\u001b[0m                               Traceback (most recent call last)",
      "\u001b[0;32m<ipython-input-495-b3cdef9e7e93>\u001b[0m in \u001b[0;36m<module>\u001b[0;34m()\u001b[0m\n\u001b[1;32m      1\u001b[0m \u001b[1;33m\u001b[0m\u001b[0m\n\u001b[0;32m----> 2\u001b[0;31m \u001b[0mmaximum_diameters\u001b[0m \u001b[1;33m=\u001b[0m \u001b[0mMaximumDiameters\u001b[0m\u001b[1;33m(\u001b[0m\u001b[0mstate\u001b[0m\u001b[1;33m,\u001b[0m \u001b[0mtrajectory\u001b[0m\u001b[1;33m)\u001b[0m\u001b[1;33m\u001b[0m\u001b[0m\n\u001b[0m",
      "\u001b[0;32mC:\\Users\\rbj428\\AppData\\Local\\Continuum\\Anaconda2_3\\lib\\site-packages\\numba\\dispatcher.pyc\u001b[0m in \u001b[0;36m_compile_for_args\u001b[0;34m(self, *args, **kws)\u001b[0m\n\u001b[1;32m    307\u001b[0m                                 for i, err in failed_args))\n\u001b[1;32m    308\u001b[0m                 \u001b[0me\u001b[0m\u001b[1;33m.\u001b[0m\u001b[0mpatch_message\u001b[0m\u001b[1;33m(\u001b[0m\u001b[0mmsg\u001b[0m\u001b[1;33m)\u001b[0m\u001b[1;33m\u001b[0m\u001b[0m\n\u001b[0;32m--> 309\u001b[0;31m             \u001b[1;32mraise\u001b[0m \u001b[0me\u001b[0m\u001b[1;33m\u001b[0m\u001b[0m\n\u001b[0m\u001b[1;32m    310\u001b[0m \u001b[1;33m\u001b[0m\u001b[0m\n\u001b[1;32m    311\u001b[0m     \u001b[1;32mdef\u001b[0m \u001b[0minspect_llvm\u001b[0m\u001b[1;33m(\u001b[0m\u001b[0mself\u001b[0m\u001b[1;33m,\u001b[0m \u001b[0msignature\u001b[0m\u001b[1;33m=\u001b[0m\u001b[0mNone\u001b[0m\u001b[1;33m)\u001b[0m\u001b[1;33m:\u001b[0m\u001b[1;33m\u001b[0m\u001b[0m\n",
      "\u001b[0;31mTypingError\u001b[0m: Caused By:\nTraceback (most recent call last):\n  File \"C:\\Users\\rbj428\\AppData\\Local\\Continuum\\Anaconda2_3\\lib\\site-packages\\numba\\compiler.py\", line 228, in run\n    stage()\n  File \"C:\\Users\\rbj428\\AppData\\Local\\Continuum\\Anaconda2_3\\lib\\site-packages\\numba\\compiler.py\", line 442, in stage_nopython_frontend\n    self.locals)\n  File \"C:\\Users\\rbj428\\AppData\\Local\\Continuum\\Anaconda2_3\\lib\\site-packages\\numba\\compiler.py\", line 794, in type_inference_stage\n    infer.propagate()\n  File \"C:\\Users\\rbj428\\AppData\\Local\\Continuum\\Anaconda2_3\\lib\\site-packages\\numba\\typeinfer.py\", line 767, in propagate\n    raise errors[0]\nTypingError: Invalid usage of getitem with parameters (pyobject, const('box'))\n * parameterized\nFile \"<ipython-input-494-294dbe1a32d4>\", line 4\n[1] During: typing of intrinsic-call at <ipython-input-494-294dbe1a32d4> (4)\n[2] During: typing of static-get-item at <ipython-input-494-294dbe1a32d4> (4)\n\nFailed at nopython (nopython frontend)\nInvalid usage of getitem with parameters (pyobject, const('box'))\n * parameterized\nFile \"<ipython-input-494-294dbe1a32d4>\", line 4\n[1] During: typing of intrinsic-call at <ipython-input-494-294dbe1a32d4> (4)\n[2] During: typing of static-get-item at <ipython-input-494-294dbe1a32d4> (4)\n\nThis error may have been caused by the following argument(s):\n- argument 0: cannot determine Numba type of <type 'dict'>\n- argument 1: cannot determine Numba type of <type 'dict'>\n"
     ]
    }
   ],
   "source": [
    "\n",
    "maximum_diameters = MaximumDiameters(state, trajectory)"
   ]
  },
  {
   "cell_type": "code",
   "execution_count": 479,
   "metadata": {
    "collapsed": false
   },
   "outputs": [
    {
     "data": {
      "text/plain": [
       "array([ 1.85075863,  1.84166185,  1.93867005,  1.75546999,  1.82110675,\n",
       "        2.02272323,  1.83659571,  1.87557943,  1.83890124,  1.82213408,\n",
       "        1.80859912,  1.79903194,  1.81171183,  1.81826785,  1.85759615,\n",
       "        1.75910117,  1.84279098,  1.83458858,  1.95719709,  1.95940324,\n",
       "        1.77491066,  1.86497016,  1.83892118,  1.7691573 ,  1.76056327,\n",
       "        1.83595178,  1.77091685,  1.83537533,  1.83968442,  1.76106824,\n",
       "        1.79161322,  1.82957786,  1.8265347 ,  1.81194834,  1.79202994,\n",
       "        1.82379498,  1.81185134,  1.8353017 ,  1.7775346 ,  1.76807772,\n",
       "        1.74791244,  1.81758653,  1.89477742,  2.07255778,  2.08420807,\n",
       "        1.95123939,  1.79311849,  1.96619286,  1.8681673 ,  1.83496536,\n",
       "        1.79346299,  1.84191999,  1.79740928,  1.82938566,  1.81643187,\n",
       "        1.80543785,  1.84536956,  1.8394376 ,  1.78032311,  1.85075263,\n",
       "        1.84454228,  1.84687079,  2.09254812,  2.05588884,  2.08164255,\n",
       "        1.95931527,  1.78300053,  1.79807082,  1.78147509,  1.84031245,\n",
       "        2.04707949,  1.99637997,  1.82113619,  1.93345368,  1.79936269,\n",
       "        1.7959618 ,  1.79236637,  1.80843463,  1.76582879,  1.74822956,\n",
       "        1.7555279 ,  1.75087916,  1.78502825,  2.06009206,  1.88126489,\n",
       "        1.77973554,  1.74977376,  1.78811988,  1.81128957,  1.74357817,\n",
       "        1.8015221 ,  1.80868185,  1.75416923,  1.89991187,  1.76208309,\n",
       "        1.96375729,  1.82638572,  1.79426207,  1.78838464,  1.83229133])"
      ]
     },
     "execution_count": 479,
     "metadata": {},
     "output_type": "execute_result"
    }
   ],
   "source": [
    "maximum_diameters[299]"
   ]
  },
  {
   "cell_type": "code",
   "execution_count": 482,
   "metadata": {
    "collapsed": false
   },
   "outputs": [],
   "source": [
    "import matplotlib\n",
    "import matplotlib.pyplot as plt\n",
    "%matplotlib inline  "
   ]
  },
  {
   "cell_type": "code",
   "execution_count": 485,
   "metadata": {
    "collapsed": false
   },
   "outputs": [
    {
     "data": {
      "text/plain": [
       "(array([ 18.,  27.,  29.,   7.,   2.,   3.,   5.,   2.,   2.,   5.]),\n",
       " array([ 1.74357817,  1.77847517,  1.81337216,  1.84826916,  1.88316615,\n",
       "         1.91806315,  1.95296014,  1.98785714,  2.02275413,  2.05765113,\n",
       "         2.09254812]),\n",
       " <a list of 10 Patch objects>)"
      ]
     },
     "execution_count": 485,
     "metadata": {},
     "output_type": "execute_result"
    },
    {
     "data": {
      "image/png": "[encoded data removed]",
      "text/plain": [
       "<matplotlib.figure.Figure at 0x4c5d37b8>"
      ]
     },
     "metadata": {},
     "output_type": "display_data"
    }
   ],
   "source": [
    "plt.hist(maximum_diameters[0])\n",
    "plt.hist(maximum_diameters[150])\n",
    "plt.hist(maximum_diameters[299])"
   ]
  },
  {
   "cell_type": "code",
   "execution_count": 438,
   "metadata": {
    "collapsed": false
   },
   "outputs": [
    {
     "data": {
      "text/plain": [
       "array([[ 9, 10, 11, 12],\n",
       "       [ 9, 10, 11, 12]])"
      ]
     },
     "execution_count": 438,
     "metadata": {},
     "output_type": "execute_result"
    }
   ],
   "source": [
    "x = array([[1,2,3,4],[5,6,7,8],[9,10,11,12]])\n",
    "index = array([2,2])\n",
    "x[index]"
   ]
  },
  {
   "cell_type": "code",
   "execution_count": null,
   "metadata": {
    "collapsed": true
   },
   "outputs": [],
   "source": []
  },
  {
   "cell_type": "code",
   "execution_count": null,
   "metadata": {
    "collapsed": true
   },
   "outputs": [],
   "source": []
  },
  {
   "cell_type": "code",
   "execution_count": null,
   "metadata": {
    "collapsed": true
   },
   "outputs": [],
   "source": []
  },
  {
   "cell_type": "code",
   "execution_count": null,
   "metadata": {
    "collapsed": true
   },
   "outputs": [],
   "source": []
  },
  {
   "cell_type": "code",
   "execution_count": 420,
   "metadata": {
    "collapsed": false
   },
   "outputs": [
    {
     "name": "stdout",
     "output_type": "stream",
     "text": [
      "0\n",
      "[0 0 0]\n"
     ]
    }
   ],
   "source": [
    "cell = array([0,1,-1])\n",
    "cell_nums = array([1, 1, 1])\n",
    "ncx_max, ncy_max, ncz_max = minimum(2, cell_nums-1)\n",
    "print ncx_max\n",
    "for i in range(-1, ncx_max):\n",
    "    for j in range(-1, ncy_max):\n",
    "        for k in range(-1, ncz_max):\n",
    "            neighbor_cell = cell + array([i, j, k]).astype(int)\n",
    "            neighbor_cell = neighbor_cell - (neighbor_cell/cell_nums)*cell_nums\n",
    "            print neighbor_cell"
   ]
  },
  {
   "cell_type": "code",
   "execution_count": 402,
   "metadata": {
    "collapsed": false
   },
   "outputs": [
    {
     "data": {
      "text/plain": [
       "0.05499999999999994"
      ]
     },
     "execution_count": 402,
     "metadata": {},
     "output_type": "execute_result"
    }
   ],
   "source": [
    "0.7-0.645"
   ]
  },
  {
   "cell_type": "code",
   "execution_count": 404,
   "metadata": {
    "collapsed": false
   },
   "outputs": [
    {
     "data": {
      "text/plain": [
       "0.455"
      ]
     },
     "execution_count": 404,
     "metadata": {},
     "output_type": "execute_result"
    }
   ],
   "source": [
    "0.4+0.055"
   ]
  },
  {
   "cell_type": "code",
   "execution_count": 385,
   "metadata": {
    "collapsed": false
   },
   "outputs": [],
   "source": [
    "from numpy import  minimum"
   ]
  },
  {
   "cell_type": "code",
   "execution_count": 386,
   "metadata": {
    "collapsed": false
   },
   "outputs": [
    {
     "data": {
      "text/plain": [
       "array([2, 2, 2])"
      ]
     },
     "execution_count": 386,
     "metadata": {},
     "output_type": "execute_result"
    }
   ],
   "source": [
    "minimum(array([2,4,5]), 2)"
   ]
  },
  {
   "cell_type": "code",
   "execution_count": 391,
   "metadata": {
    "collapsed": false
   },
   "outputs": [
    {
     "data": {
      "text/plain": [
       "array([0, 2, 1])"
      ]
     },
     "execution_count": 391,
     "metadata": {},
     "output_type": "execute_result"
    }
   ],
   "source": [
    "cell_nums = array([1,3,2])\n",
    "minimum(2, cell_nums-1)"
   ]
  },
  {
   "cell_type": "code",
   "execution_count": null,
   "metadata": {
    "collapsed": true
   },
   "outputs": [],
   "source": [
    "rij-(di+dj)/2=0"
   ]
  },
  {
   "cell_type": "code",
   "execution_count": 360,
   "metadata": {
    "collapsed": false
   },
   "outputs": [
    {
     "data": {
      "text/plain": [
       "array([1, 2, 3])"
      ]
     },
     "execution_count": 360,
     "metadata": {},
     "output_type": "execute_result"
    }
   ],
   "source": [
    "array([1,2,3]).astype(int)"
   ]
  },
  {
   "cell_type": "code",
   "execution_count": 318,
   "metadata": {
    "collapsed": true
   },
   "outputs": [],
   "source": [
    "nc = 5   #(0,1,2,3,4)"
   ]
  },
  {
   "cell_type": "code",
   "execution_count": 330,
   "metadata": {
    "collapsed": false
   },
   "outputs": [
    {
     "name": "stdout",
     "output_type": "stream",
     "text": [
      "2\n",
      "1\n"
     ]
    }
   ],
   "source": [
    "x=9\n",
    "print x/4\n",
    "print x%4"
   ]
  },
  {
   "cell_type": "code",
   "execution_count": 343,
   "metadata": {
    "collapsed": false
   },
   "outputs": [
    {
     "data": {
      "text/plain": [
       "0"
      ]
     },
     "execution_count": 343,
     "metadata": {},
     "output_type": "execute_result"
    }
   ],
   "source": [
    "x=5\n",
    "x - (x/5)*5"
   ]
  },
  {
   "cell_type": "code",
   "execution_count": 350,
   "metadata": {
    "collapsed": true
   },
   "outputs": [],
   "source": [
    "A = len((0,1,2,3,4,5))"
   ]
  },
  {
   "cell_type": "code",
   "execution_count": 358,
   "metadata": {
    "collapsed": false
   },
   "outputs": [
    {
     "data": {
      "text/plain": [
       "5"
      ]
     },
     "execution_count": 358,
     "metadata": {},
     "output_type": "execute_result"
    }
   ],
   "source": [
    "x=-7\n",
    "x - (x/A)*A"
   ]
  },
  {
   "cell_type": "code",
   "execution_count": 376,
   "metadata": {
    "collapsed": false
   },
   "outputs": [
    {
     "data": {
      "text/plain": [
       "array([1, 1, 1])"
      ]
     },
     "execution_count": 376,
     "metadata": {},
     "output_type": "execute_result"
    }
   ],
   "source": [
    "cell_nums = array([4,6,2])\n",
    "neighbor_cell = array([-7,7,9])\n",
    "neighbor_cell - (neighbor_cell/cell_nums)*cell_nums"
   ]
  },
  {
   "cell_type": "code",
   "execution_count": null,
   "metadata": {
    "collapsed": true
   },
   "outputs": [],
   "source": []
  },
  {
   "cell_type": "code",
   "execution_count": null,
   "metadata": {
    "collapsed": true
   },
   "outputs": [],
   "source": []
  },
  {
   "cell_type": "code",
   "execution_count": null,
   "metadata": {
    "collapsed": true
   },
   "outputs": [],
   "source": [
    "[x, y, z] / [Lx, Ly, Lz]"
   ]
  },
  {
   "cell_type": "code",
   "execution_count": 112,
   "metadata": {
    "collapsed": false
   },
   "outputs": [],
   "source": [
    "ncx=3\n",
    "ncy=4\n",
    "ncz=5\n",
    "cell_nums = array([ncx, ncy, ncz])\n",
    "cell_list = empty(cell_nums, dtype=object)\n",
    "for cellx in range(cell_nums[0]):\n",
    "    for celly in range(cell_nums[1]):\n",
    "        for cellz in range(cell_nums[2]):\n",
    "            cell_list[cellx, celly, cellz] = []"
   ]
  },
  {
   "cell_type": "code",
   "execution_count": 113,
   "metadata": {
    "collapsed": false
   },
   "outputs": [],
   "source": [
    "cell_list[1,3,1].append(23)"
   ]
  },
  {
   "cell_type": "code",
   "execution_count": 114,
   "metadata": {
    "collapsed": false
   },
   "outputs": [
    {
     "data": {
      "text/plain": [
       "array([[[[], [], [], [], []],\n",
       "        [[], [], [], [], []],\n",
       "        [[], [], [], [], []],\n",
       "        [[], [], [], [], []]],\n",
       "\n",
       "       [[[], [], [], [], []],\n",
       "        [[], [], [], [], []],\n",
       "        [[], [], [], [], []],\n",
       "        [[], [23], [], [], []]],\n",
       "\n",
       "       [[[], [], [], [], []],\n",
       "        [[], [], [], [], []],\n",
       "        [[], [], [], [], []],\n",
       "        [[], [], [], [], []]]], dtype=object)"
      ]
     },
     "execution_count": 114,
     "metadata": {},
     "output_type": "execute_result"
    }
   ],
   "source": [
    "cell_list"
   ]
  },
  {
   "cell_type": "code",
   "execution_count": 72,
   "metadata": {
    "collapsed": false
   },
   "outputs": [
    {
     "ename": "ValueError",
     "evalue": "could not broadcast input array from shape (0) into shape (2,3,4)",
     "output_type": "error",
     "traceback": [
      "\u001b[0;31m---------------------------------------------------------------------------\u001b[0m",
      "\u001b[0;31mValueError\u001b[0m                                Traceback (most recent call last)",
      "\u001b[0;32m<ipython-input-72-2ff038297fb8>\u001b[0m in \u001b[0;36m<module>\u001b[0;34m()\u001b[0m\n\u001b[0;32m----> 1\u001b[0;31m \u001b[0mfull\u001b[0m\u001b[1;33m(\u001b[0m\u001b[1;33m(\u001b[0m\u001b[1;36m2\u001b[0m\u001b[1;33m,\u001b[0m\u001b[1;36m3\u001b[0m\u001b[1;33m,\u001b[0m\u001b[1;36m4\u001b[0m\u001b[1;33m)\u001b[0m\u001b[1;33m,\u001b[0m \u001b[1;33m[\u001b[0m\u001b[1;33m]\u001b[0m\u001b[1;33m)\u001b[0m\u001b[1;33m\u001b[0m\u001b[0m\n\u001b[0m",
      "\u001b[0;32mC:\\Users\\rbj428\\AppData\\Local\\Continuum\\Anaconda2_3\\lib\\site-packages\\numpy\\core\\numeric.pyc\u001b[0m in \u001b[0;36mfull\u001b[0;34m(shape, fill_value, dtype, order)\u001b[0m\n\u001b[1;32m    300\u001b[0m             \u001b[1;34m\"in the future, full({0}, {1!r}) will return an array of {2!r}\"\u001b[0m\u001b[1;33m.\u001b[0m\u001b[1;33m\u001b[0m\u001b[0m\n\u001b[1;32m    301\u001b[0m             format(shape, fill_value, array(fill_value).dtype), FutureWarning)\n\u001b[0;32m--> 302\u001b[0;31m     \u001b[0mmultiarray\u001b[0m\u001b[1;33m.\u001b[0m\u001b[0mcopyto\u001b[0m\u001b[1;33m(\u001b[0m\u001b[0ma\u001b[0m\u001b[1;33m,\u001b[0m \u001b[0mfill_value\u001b[0m\u001b[1;33m,\u001b[0m \u001b[0mcasting\u001b[0m\u001b[1;33m=\u001b[0m\u001b[1;34m'unsafe'\u001b[0m\u001b[1;33m)\u001b[0m\u001b[1;33m\u001b[0m\u001b[0m\n\u001b[0m\u001b[1;32m    303\u001b[0m     \u001b[1;32mreturn\u001b[0m \u001b[0ma\u001b[0m\u001b[1;33m\u001b[0m\u001b[0m\n\u001b[1;32m    304\u001b[0m \u001b[1;33m\u001b[0m\u001b[0m\n",
      "\u001b[0;31mValueError\u001b[0m: could not broadcast input array from shape (0) into shape (2,3,4)"
     ]
    }
   ],
   "source": [
    "full((2,3,4), )"
   ]
  },
  {
   "cell_type": "code",
   "execution_count": null,
   "metadata": {
    "collapsed": true
   },
   "outputs": [],
   "source": []
  },
  {
   "cell_type": "code",
   "execution_count": 32,
   "metadata": {
    "collapsed": true
   },
   "outputs": [],
   "source": [
    "a = array([1,2,3,4,5])"
   ]
  },
  {
   "cell_type": "code",
   "execution_count": 33,
   "metadata": {
    "collapsed": true
   },
   "outputs": [],
   "source": [
    "b = array([[1,2,3,4,5], [1,2,3,4,5], [1,5,3,4,5]])"
   ]
  },
  {
   "cell_type": "code",
   "execution_count": 43,
   "metadata": {
    "collapsed": false
   },
   "outputs": [
    {
     "data": {
      "text/plain": [
       "False"
      ]
     },
     "execution_count": 43,
     "metadata": {},
     "output_type": "execute_result"
    }
   ],
   "source": [
    "all(a == b)"
   ]
  },
  {
   "cell_type": "code",
   "execution_count": 36,
   "metadata": {
    "collapsed": false
   },
   "outputs": [
    {
     "data": {
      "text/plain": [
       "array([[ True,  True,  True,  True,  True],\n",
       "       [ True,  True,  True,  True,  True],\n",
       "       [ True, False,  True,  True,  True]], dtype=bool)"
      ]
     },
     "execution_count": 36,
     "metadata": {},
     "output_type": "execute_result"
    }
   ],
   "source": [
    "a == b"
   ]
  },
  {
   "cell_type": "code",
   "execution_count": 201,
   "metadata": {
    "collapsed": false
   },
   "outputs": [
    {
     "data": {
      "text/plain": [
       "array([[[ 1.        ,  1.        ,  1.        ],\n",
       "        [ 3.        ,  2.        ,  1.66666667],\n",
       "        [ 5.        ,  3.        ,  2.33333333]],\n",
       "\n",
       "       [[ 1.        ,  1.        ,  1.        ],\n",
       "        [ 3.        ,  2.        ,  1.66666667],\n",
       "        [ 5.        ,  3.        ,  2.33333333]]])"
      ]
     },
     "execution_count": 201,
     "metadata": {},
     "output_type": "execute_result"
    }
   ],
   "source": [
    "frames = array([[[1,2,3], [3,4,5], [5,6,7]], [[1,2,3], [3,4,5], [5,6,7]]])\n",
    "box = array([1.,2.,3.])\n",
    "frames / box"
   ]
  },
  {
   "cell_type": "code",
   "execution_count": 490,
   "metadata": {
    "collapsed": false
   },
   "outputs": [
    {
     "ename": "SyntaxError",
     "evalue": "invalid syntax (<ipython-input-490-3cbc0f1bdfd3>, line 1)",
     "output_type": "error",
     "traceback": [
      "\u001b[0;36m  File \u001b[0;32m\"<ipython-input-490-3cbc0f1bdfd3>\"\u001b[0;36m, line \u001b[0;32m1\u001b[0m\n\u001b[0;31m    from libc.math cimport sin\u001b[0m\n\u001b[0m                         ^\u001b[0m\n\u001b[0;31mSyntaxError\u001b[0m\u001b[0;31m:\u001b[0m invalid syntax\n"
     ]
    }
   ],
   "source": [
    "from libc.math cimport sin"
   ]
  },
  {
   "cell_type": "code",
   "execution_count": 492,
   "metadata": {
    "collapsed": false
   },
   "outputs": [
    {
     "name": "stdout",
     "output_type": "stream",
     "text": [
      "The Cython extension is already loaded. To reload it, use:\n",
      "  %reload_ext Cython\n"
     ]
    }
   ],
   "source": [
    "%load_ext Cython"
   ]
  },
  {
   "cell_type": "code",
   "execution_count": 493,
   "metadata": {
    "collapsed": false
   },
   "outputs": [
    {
     "ename": "DistutilsPlatformError",
     "evalue": "Unable to find vcvarsall.bat",
     "output_type": "error",
     "traceback": [
      "\u001b[0;31m---------------------------------------------------------------------------\u001b[0m",
      "\u001b[0;31mDistutilsPlatformError\u001b[0m                    Traceback (most recent call last)",
      "\u001b[0;32m<ipython-input-493-37d22c97b219>\u001b[0m in \u001b[0;36m<module>\u001b[0;34m()\u001b[0m\n\u001b[0;32m----> 1\u001b[0;31m \u001b[0mget_ipython\u001b[0m\u001b[1;33m(\u001b[0m\u001b[1;33m)\u001b[0m\u001b[1;33m.\u001b[0m\u001b[0mrun_cell_magic\u001b[0m\u001b[1;33m(\u001b[0m\u001b[1;34mu'cython'\u001b[0m\u001b[1;33m,\u001b[0m \u001b[1;34mu''\u001b[0m\u001b[1;33m,\u001b[0m \u001b[1;34mu'\\ncdef int a = 0\\nfor i in range(10):\\n    a += i\\nprint(a)'\u001b[0m\u001b[1;33m)\u001b[0m\u001b[1;33m\u001b[0m\u001b[0m\n\u001b[0m",
      "\u001b[0;32mC:\\Users\\rbj428\\AppData\\Local\\Continuum\\Anaconda2_3\\lib\\site-packages\\IPython\\core\\interactiveshell.pyc\u001b[0m in \u001b[0;36mrun_cell_magic\u001b[0;34m(self, magic_name, line, cell)\u001b[0m\n\u001b[1;32m   2113\u001b[0m             \u001b[0mmagic_arg_s\u001b[0m \u001b[1;33m=\u001b[0m \u001b[0mself\u001b[0m\u001b[1;33m.\u001b[0m\u001b[0mvar_expand\u001b[0m\u001b[1;33m(\u001b[0m\u001b[0mline\u001b[0m\u001b[1;33m,\u001b[0m \u001b[0mstack_depth\u001b[0m\u001b[1;33m)\u001b[0m\u001b[1;33m\u001b[0m\u001b[0m\n\u001b[1;32m   2114\u001b[0m             \u001b[1;32mwith\u001b[0m \u001b[0mself\u001b[0m\u001b[1;33m.\u001b[0m\u001b[0mbuiltin_trap\u001b[0m\u001b[1;33m:\u001b[0m\u001b[1;33m\u001b[0m\u001b[0m\n\u001b[0;32m-> 2115\u001b[0;31m                 \u001b[0mresult\u001b[0m \u001b[1;33m=\u001b[0m \u001b[0mfn\u001b[0m\u001b[1;33m(\u001b[0m\u001b[0mmagic_arg_s\u001b[0m\u001b[1;33m,\u001b[0m \u001b[0mcell\u001b[0m\u001b[1;33m)\u001b[0m\u001b[1;33m\u001b[0m\u001b[0m\n\u001b[0m\u001b[1;32m   2116\u001b[0m             \u001b[1;32mreturn\u001b[0m \u001b[0mresult\u001b[0m\u001b[1;33m\u001b[0m\u001b[0m\n\u001b[1;32m   2117\u001b[0m \u001b[1;33m\u001b[0m\u001b[0m\n",
      "\u001b[0;32m<decorator-gen-125>\u001b[0m in \u001b[0;36mcython\u001b[0;34m(self, line, cell)\u001b[0m\n",
      "\u001b[0;32mC:\\Users\\rbj428\\AppData\\Local\\Continuum\\Anaconda2_3\\lib\\site-packages\\IPython\\core\\magic.pyc\u001b[0m in \u001b[0;36m<lambda>\u001b[0;34m(f, *a, **k)\u001b[0m\n\u001b[1;32m    186\u001b[0m     \u001b[1;31m# but it's overkill for just that one bit of state.\u001b[0m\u001b[1;33m\u001b[0m\u001b[1;33m\u001b[0m\u001b[0m\n\u001b[1;32m    187\u001b[0m     \u001b[1;32mdef\u001b[0m \u001b[0mmagic_deco\u001b[0m\u001b[1;33m(\u001b[0m\u001b[0marg\u001b[0m\u001b[1;33m)\u001b[0m\u001b[1;33m:\u001b[0m\u001b[1;33m\u001b[0m\u001b[0m\n\u001b[0;32m--> 188\u001b[0;31m         \u001b[0mcall\u001b[0m \u001b[1;33m=\u001b[0m \u001b[1;32mlambda\u001b[0m \u001b[0mf\u001b[0m\u001b[1;33m,\u001b[0m \u001b[1;33m*\u001b[0m\u001b[0ma\u001b[0m\u001b[1;33m,\u001b[0m \u001b[1;33m**\u001b[0m\u001b[0mk\u001b[0m\u001b[1;33m:\u001b[0m \u001b[0mf\u001b[0m\u001b[1;33m(\u001b[0m\u001b[1;33m*\u001b[0m\u001b[0ma\u001b[0m\u001b[1;33m,\u001b[0m \u001b[1;33m**\u001b[0m\u001b[0mk\u001b[0m\u001b[1;33m)\u001b[0m\u001b[1;33m\u001b[0m\u001b[0m\n\u001b[0m\u001b[1;32m    189\u001b[0m \u001b[1;33m\u001b[0m\u001b[0m\n\u001b[1;32m    190\u001b[0m         \u001b[1;32mif\u001b[0m \u001b[0mcallable\u001b[0m\u001b[1;33m(\u001b[0m\u001b[0marg\u001b[0m\u001b[1;33m)\u001b[0m\u001b[1;33m:\u001b[0m\u001b[1;33m\u001b[0m\u001b[0m\n",
      "\u001b[0;32mC:\\Users\\rbj428\\AppData\\Local\\Continuum\\Anaconda2_3\\lib\\site-packages\\Cython\\Build\\IpythonMagic.pyc\u001b[0m in \u001b[0;36mcython\u001b[0;34m(self, line, cell)\u001b[0m\n\u001b[1;32m    304\u001b[0m             \u001b[0mbuild_extension\u001b[0m\u001b[1;33m.\u001b[0m\u001b[0mbuild_temp\u001b[0m \u001b[1;33m=\u001b[0m \u001b[0mos\u001b[0m\u001b[1;33m.\u001b[0m\u001b[0mpath\u001b[0m\u001b[1;33m.\u001b[0m\u001b[0mdirname\u001b[0m\u001b[1;33m(\u001b[0m\u001b[0mpyx_file\u001b[0m\u001b[1;33m)\u001b[0m\u001b[1;33m\u001b[0m\u001b[0m\n\u001b[1;32m    305\u001b[0m             \u001b[0mbuild_extension\u001b[0m\u001b[1;33m.\u001b[0m\u001b[0mbuild_lib\u001b[0m \u001b[1;33m=\u001b[0m \u001b[0mlib_dir\u001b[0m\u001b[1;33m\u001b[0m\u001b[0m\n\u001b[0;32m--> 306\u001b[0;31m             \u001b[0mbuild_extension\u001b[0m\u001b[1;33m.\u001b[0m\u001b[0mrun\u001b[0m\u001b[1;33m(\u001b[0m\u001b[1;33m)\u001b[0m\u001b[1;33m\u001b[0m\u001b[0m\n\u001b[0m\u001b[1;32m    307\u001b[0m             \u001b[0mself\u001b[0m\u001b[1;33m.\u001b[0m\u001b[0m_code_cache\u001b[0m\u001b[1;33m[\u001b[0m\u001b[0mkey\u001b[0m\u001b[1;33m]\u001b[0m \u001b[1;33m=\u001b[0m \u001b[0mmodule_name\u001b[0m\u001b[1;33m\u001b[0m\u001b[0m\n\u001b[1;32m    308\u001b[0m \u001b[1;33m\u001b[0m\u001b[0m\n",
      "\u001b[0;32mC:\\Users\\rbj428\\AppData\\Local\\Continuum\\Anaconda2_3\\lib\\distutils\\command\\build_ext.pyc\u001b[0m in \u001b[0;36mrun\u001b[0;34m(self)\u001b[0m\n\u001b[1;32m    338\u001b[0m \u001b[1;33m\u001b[0m\u001b[0m\n\u001b[1;32m    339\u001b[0m         \u001b[1;31m# Now actually compile and link everything.\u001b[0m\u001b[1;33m\u001b[0m\u001b[1;33m\u001b[0m\u001b[0m\n\u001b[0;32m--> 340\u001b[0;31m         \u001b[0mself\u001b[0m\u001b[1;33m.\u001b[0m\u001b[0mbuild_extensions\u001b[0m\u001b[1;33m(\u001b[0m\u001b[1;33m)\u001b[0m\u001b[1;33m\u001b[0m\u001b[0m\n\u001b[0m\u001b[1;32m    341\u001b[0m \u001b[1;33m\u001b[0m\u001b[0m\n\u001b[1;32m    342\u001b[0m     \u001b[1;32mdef\u001b[0m \u001b[0mcheck_extensions_list\u001b[0m\u001b[1;33m(\u001b[0m\u001b[0mself\u001b[0m\u001b[1;33m,\u001b[0m \u001b[0mextensions\u001b[0m\u001b[1;33m)\u001b[0m\u001b[1;33m:\u001b[0m\u001b[1;33m\u001b[0m\u001b[0m\n",
      "\u001b[0;32mC:\\Users\\rbj428\\AppData\\Local\\Continuum\\Anaconda2_3\\lib\\distutils\\command\\build_ext.pyc\u001b[0m in \u001b[0;36mbuild_extensions\u001b[0;34m(self)\u001b[0m\n\u001b[1;32m    447\u001b[0m \u001b[1;33m\u001b[0m\u001b[0m\n\u001b[1;32m    448\u001b[0m         \u001b[1;32mfor\u001b[0m \u001b[0mext\u001b[0m \u001b[1;32min\u001b[0m \u001b[0mself\u001b[0m\u001b[1;33m.\u001b[0m\u001b[0mextensions\u001b[0m\u001b[1;33m:\u001b[0m\u001b[1;33m\u001b[0m\u001b[0m\n\u001b[0;32m--> 449\u001b[0;31m             \u001b[0mself\u001b[0m\u001b[1;33m.\u001b[0m\u001b[0mbuild_extension\u001b[0m\u001b[1;33m(\u001b[0m\u001b[0mext\u001b[0m\u001b[1;33m)\u001b[0m\u001b[1;33m\u001b[0m\u001b[0m\n\u001b[0m\u001b[1;32m    450\u001b[0m \u001b[1;33m\u001b[0m\u001b[0m\n\u001b[1;32m    451\u001b[0m     \u001b[1;32mdef\u001b[0m \u001b[0mbuild_extension\u001b[0m\u001b[1;33m(\u001b[0m\u001b[0mself\u001b[0m\u001b[1;33m,\u001b[0m \u001b[0mext\u001b[0m\u001b[1;33m)\u001b[0m\u001b[1;33m:\u001b[0m\u001b[1;33m\u001b[0m\u001b[0m\n",
      "\u001b[0;32mC:\\Users\\rbj428\\AppData\\Local\\Continuum\\Anaconda2_3\\lib\\distutils\\command\\build_ext.pyc\u001b[0m in \u001b[0;36mbuild_extension\u001b[0;34m(self, ext)\u001b[0m\n\u001b[1;32m    497\u001b[0m                                          \u001b[0mdebug\u001b[0m\u001b[1;33m=\u001b[0m\u001b[0mself\u001b[0m\u001b[1;33m.\u001b[0m\u001b[0mdebug\u001b[0m\u001b[1;33m,\u001b[0m\u001b[1;33m\u001b[0m\u001b[0m\n\u001b[1;32m    498\u001b[0m                                          \u001b[0mextra_postargs\u001b[0m\u001b[1;33m=\u001b[0m\u001b[0mextra_args\u001b[0m\u001b[1;33m,\u001b[0m\u001b[1;33m\u001b[0m\u001b[0m\n\u001b[0;32m--> 499\u001b[0;31m                                          depends=ext.depends)\n\u001b[0m\u001b[1;32m    500\u001b[0m \u001b[1;33m\u001b[0m\u001b[0m\n\u001b[1;32m    501\u001b[0m         \u001b[1;31m# XXX -- this is a Vile HACK!\u001b[0m\u001b[1;33m\u001b[0m\u001b[1;33m\u001b[0m\u001b[0m\n",
      "\u001b[0;32mC:\\Users\\rbj428\\AppData\\Local\\Continuum\\Anaconda2_3\\lib\\distutils\\msvc9compiler.pyc\u001b[0m in \u001b[0;36mcompile\u001b[0;34m(self, sources, output_dir, macros, include_dirs, debug, extra_preargs, extra_postargs, depends)\u001b[0m\n\u001b[1;32m    471\u001b[0m \u001b[1;33m\u001b[0m\u001b[0m\n\u001b[1;32m    472\u001b[0m         \u001b[1;32mif\u001b[0m \u001b[1;32mnot\u001b[0m \u001b[0mself\u001b[0m\u001b[1;33m.\u001b[0m\u001b[0minitialized\u001b[0m\u001b[1;33m:\u001b[0m\u001b[1;33m\u001b[0m\u001b[0m\n\u001b[0;32m--> 473\u001b[0;31m             \u001b[0mself\u001b[0m\u001b[1;33m.\u001b[0m\u001b[0minitialize\u001b[0m\u001b[1;33m(\u001b[0m\u001b[1;33m)\u001b[0m\u001b[1;33m\u001b[0m\u001b[0m\n\u001b[0m\u001b[1;32m    474\u001b[0m         compile_info = self._setup_compile(output_dir, macros, include_dirs,\n\u001b[1;32m    475\u001b[0m                                            sources, depends, extra_postargs)\n",
      "\u001b[0;32mC:\\Users\\rbj428\\AppData\\Local\\Continuum\\Anaconda2_3\\lib\\distutils\\msvc9compiler.pyc\u001b[0m in \u001b[0;36minitialize\u001b[0;34m(self, plat_name)\u001b[0m\n\u001b[1;32m    381\u001b[0m                             \u001b[0mPLAT_TO_VCVARS\u001b[0m\u001b[1;33m[\u001b[0m\u001b[0mplat_name\u001b[0m\u001b[1;33m]\u001b[0m\u001b[1;33m\u001b[0m\u001b[0m\n\u001b[1;32m    382\u001b[0m \u001b[1;33m\u001b[0m\u001b[0m\n\u001b[0;32m--> 383\u001b[0;31m             \u001b[0mvc_env\u001b[0m \u001b[1;33m=\u001b[0m \u001b[0mquery_vcvarsall\u001b[0m\u001b[1;33m(\u001b[0m\u001b[0mVERSION\u001b[0m\u001b[1;33m,\u001b[0m \u001b[0mplat_spec\u001b[0m\u001b[1;33m)\u001b[0m\u001b[1;33m\u001b[0m\u001b[0m\n\u001b[0m\u001b[1;32m    384\u001b[0m \u001b[1;33m\u001b[0m\u001b[0m\n\u001b[1;32m    385\u001b[0m             \u001b[1;31m# take care to only use strings in the environment.\u001b[0m\u001b[1;33m\u001b[0m\u001b[1;33m\u001b[0m\u001b[0m\n",
      "\u001b[0;32mC:\\Users\\rbj428\\AppData\\Local\\Continuum\\Anaconda2_3\\lib\\distutils\\msvc9compiler.pyc\u001b[0m in \u001b[0;36mquery_vcvarsall\u001b[0;34m(version, arch)\u001b[0m\n\u001b[1;32m    269\u001b[0m \u001b[1;33m\u001b[0m\u001b[0m\n\u001b[1;32m    270\u001b[0m     \u001b[1;32mif\u001b[0m \u001b[0mvcvarsall\u001b[0m \u001b[1;32mis\u001b[0m \u001b[0mNone\u001b[0m\u001b[1;33m:\u001b[0m\u001b[1;33m\u001b[0m\u001b[0m\n\u001b[0;32m--> 271\u001b[0;31m         \u001b[1;32mraise\u001b[0m \u001b[0mDistutilsPlatformError\u001b[0m\u001b[1;33m(\u001b[0m\u001b[1;34m\"Unable to find vcvarsall.bat\"\u001b[0m\u001b[1;33m)\u001b[0m\u001b[1;33m\u001b[0m\u001b[0m\n\u001b[0m\u001b[1;32m    272\u001b[0m     \u001b[0mlog\u001b[0m\u001b[1;33m.\u001b[0m\u001b[0mdebug\u001b[0m\u001b[1;33m(\u001b[0m\u001b[1;34m\"Calling 'vcvarsall.bat %s' (version=%s)\"\u001b[0m\u001b[1;33m,\u001b[0m \u001b[0march\u001b[0m\u001b[1;33m,\u001b[0m \u001b[0mversion\u001b[0m\u001b[1;33m)\u001b[0m\u001b[1;33m\u001b[0m\u001b[0m\n\u001b[1;32m    273\u001b[0m     popen = subprocess.Popen('\"%s\" %s & set' % (vcvarsall, arch),\n",
      "\u001b[0;31mDistutilsPlatformError\u001b[0m: Unable to find vcvarsall.bat"
     ]
    }
   ],
   "source": [
    "%%cython\n",
    "\n",
    "cdef int a = 0\n",
    "for i in range(10):\n",
    "    a += i\n",
    "print(a)"
   ]
  },
  {
   "cell_type": "code",
   "execution_count": null,
   "metadata": {
    "collapsed": true
   },
   "outputs": [],
   "source": []
  },
  {
   "cell_type": "code",
   "execution_count": 519,
   "metadata": {
    "collapsed": true
   },
   "outputs": [],
   "source": [
    "def MaximumDiameters(state, trajectory):\n",
    "    box, N, M = trajectory['box'], trajectory['N'], trajectory['M']\n",
    "    cell_nums = trajectory['cell_nums'].astype(int)\n",
    "    cell_size = trajectory['cell_size']\n",
    "    particle_to_type = state['particle_to_type']\n",
    "    type_to_diameter = state['type_to_diameter']\n",
    "    L_min = min(box)\n",
    "    frames = trajectory['frames']\n",
    "    cell_lists = trajectory['cell_lists']\n",
    "    return MaximumDiameters_(box, N, M, cell_nums, cell_size, particle_to_type, type_to_diameter, L_min, frames, cell_lists)\n",
    "\n",
    "\n",
    "@jit(nopython=True)\n",
    "def MaximumDiameters_(box, N, M, cell_nums, cell_size, particle_to_type, type_to_diameter, L_min, frames, cell_lists):    \n",
    "    #initialize the matrix of values\n",
    "    diameter_stats = zeros((N, M))\n",
    "    cell_ = array([0.0,0.0,0.0])\n",
    "    cell = array([0,0,0])\n",
    "    \n",
    "    #loop over the frames and use the cell lists to calculate the maximum diameter allowed\n",
    "    for m in range(M):\n",
    "        if m % 100 == 0:\n",
    "            print m\n",
    "        \n",
    "        #get the relevant frame and loop over particles\n",
    "        frame = frames[m]\n",
    "        cell_list = cell_lists[m]\n",
    "        for n in range(N):\n",
    "            \n",
    "            #single particle coordinate and corresponding cell\n",
    "            coord = frame[n]\n",
    "            diameter = type_to_diameter[particle_to_type[n]]\n",
    "            cell_ = coord / cell_size\n",
    "            for i in range(3):\n",
    "                cell[i] = int(cell_[i])\n",
    "           \n",
    "            \n",
    "            #loop over neighbor cells with periodic conditions but only if it makes sense (4 or more cells)\n",
    "            diameter_max = L_min\n",
    "            ncx_max, ncy_max, ncz_max = minimum(2, cell_nums-1)\n",
    "            for i in range(-1, ncx_max):\n",
    "                for j in range(-1, ncy_max):\n",
    "                    for k in range(-1, ncz_max):\n",
    "                        neighbor_cell = cell + array([i, j, k])\n",
    "                        neighbor_cell = neighbor_cell - (neighbor_cell/cell_nums)*cell_nums\n",
    "                        ncx, ncy, ncz = neighbor_cell\n",
    "                        #loop over the particles in that cell and find the maximum allowed diameter for that particle\n",
    "                        for nn in cell_list[ncx][ncy][ncz]:\n",
    "                            neighbor_coord = frame[nn]\n",
    "                            neighbor_diameter = type_to_diameter[particle_to_type[nn]]\n",
    "                            #peridically wrapped distance\n",
    "                            R = coord - neighbor_coord\n",
    "                            R = R - rint(R/box)*box\n",
    "                            R = sqrt(sum(power(R, 2.0)))\n",
    "                            diameter_max_test = (n != nn)*(2.0*R - neighbor_diameter) + (n == nn)*L_min\n",
    "                            diameter_max = min(diameter_max, diameter_max_test)\n",
    "                            \n",
    "            #insert the maximum allowed diameter so as to not generate an overlap                \n",
    "            diameter_stats[n][m] = diameter_max\n",
    "                        \n",
    "    return diameter_stats"
   ]
  },
  {
   "cell_type": "code",
   "execution_count": 520,
   "metadata": {
    "collapsed": false
   },
   "outputs": [
    {
     "ename": "TypingError",
     "evalue": "Caused By:\nTraceback (most recent call last):\n  File \"C:\\Users\\rbj428\\AppData\\Local\\Continuum\\Anaconda2_3\\lib\\site-packages\\numba\\compiler.py\", line 228, in run\n    stage()\n  File \"C:\\Users\\rbj428\\AppData\\Local\\Continuum\\Anaconda2_3\\lib\\site-packages\\numba\\compiler.py\", line 442, in stage_nopython_frontend\n    self.locals)\n  File \"C:\\Users\\rbj428\\AppData\\Local\\Continuum\\Anaconda2_3\\lib\\site-packages\\numba\\compiler.py\", line 794, in type_inference_stage\n    infer.propagate()\n  File \"C:\\Users\\rbj428\\AppData\\Local\\Continuum\\Anaconda2_3\\lib\\site-packages\\numba\\typeinfer.py\", line 767, in propagate\n    raise errors[0]\nTypingError: Invalid usage of getitem with parameters (pyobject, int64)\n * parameterized\nFile \"<ipython-input-519-87ec9957496c>\", line 27\n[1] During: typing of intrinsic-call at <ipython-input-519-87ec9957496c> (27)\n\nFailed at nopython (nopython frontend)\nInvalid usage of getitem with parameters (pyobject, int64)\n * parameterized\nFile \"<ipython-input-519-87ec9957496c>\", line 27\n[1] During: typing of intrinsic-call at <ipython-input-519-87ec9957496c> (27)\n\nThis error may have been caused by the following argument(s):\n- argument 9: Unsupported array dtype: object\n",
     "output_type": "error",
     "traceback": [
      "\u001b[0;31m---------------------------------------------------------------------------\u001b[0m",
      "\u001b[0;31mTypingError\u001b[0m                               Traceback (most recent call last)",
      "\u001b[0;32m<ipython-input-520-f3eb11f9ca0b>\u001b[0m in \u001b[0;36m<module>\u001b[0;34m()\u001b[0m\n\u001b[0;32m----> 1\u001b[0;31m \u001b[0mmaximum_diameters\u001b[0m \u001b[1;33m=\u001b[0m \u001b[0mMaximumDiameters\u001b[0m\u001b[1;33m(\u001b[0m\u001b[0mstate\u001b[0m\u001b[1;33m,\u001b[0m \u001b[0mtrajectory\u001b[0m\u001b[1;33m)\u001b[0m\u001b[1;33m\u001b[0m\u001b[0m\n\u001b[0m",
      "\u001b[0;32m<ipython-input-519-87ec9957496c>\u001b[0m in \u001b[0;36mMaximumDiameters\u001b[0;34m(state, trajectory)\u001b[0m\n\u001b[1;32m      8\u001b[0m     \u001b[0mframes\u001b[0m \u001b[1;33m=\u001b[0m \u001b[0mtrajectory\u001b[0m\u001b[1;33m[\u001b[0m\u001b[1;34m'frames'\u001b[0m\u001b[1;33m]\u001b[0m\u001b[1;33m\u001b[0m\u001b[0m\n\u001b[1;32m      9\u001b[0m     \u001b[0mcell_lists\u001b[0m \u001b[1;33m=\u001b[0m \u001b[0mtrajectory\u001b[0m\u001b[1;33m[\u001b[0m\u001b[1;34m'cell_lists'\u001b[0m\u001b[1;33m]\u001b[0m\u001b[1;33m\u001b[0m\u001b[0m\n\u001b[0;32m---> 10\u001b[0;31m     \u001b[1;32mreturn\u001b[0m \u001b[0mMaximumDiameters_\u001b[0m\u001b[1;33m(\u001b[0m\u001b[0mbox\u001b[0m\u001b[1;33m,\u001b[0m \u001b[0mN\u001b[0m\u001b[1;33m,\u001b[0m \u001b[0mM\u001b[0m\u001b[1;33m,\u001b[0m \u001b[0mcell_nums\u001b[0m\u001b[1;33m,\u001b[0m \u001b[0mcell_size\u001b[0m\u001b[1;33m,\u001b[0m \u001b[0mparticle_to_type\u001b[0m\u001b[1;33m,\u001b[0m \u001b[0mtype_to_diameter\u001b[0m\u001b[1;33m,\u001b[0m \u001b[0mL_min\u001b[0m\u001b[1;33m,\u001b[0m \u001b[0mframes\u001b[0m\u001b[1;33m,\u001b[0m \u001b[0mcell_lists\u001b[0m\u001b[1;33m)\u001b[0m\u001b[1;33m\u001b[0m\u001b[0m\n\u001b[0m\u001b[1;32m     11\u001b[0m \u001b[1;33m\u001b[0m\u001b[0m\n\u001b[1;32m     12\u001b[0m \u001b[1;33m\u001b[0m\u001b[0m\n",
      "\u001b[0;32mC:\\Users\\rbj428\\AppData\\Local\\Continuum\\Anaconda2_3\\lib\\site-packages\\numba\\dispatcher.pyc\u001b[0m in \u001b[0;36m_compile_for_args\u001b[0;34m(self, *args, **kws)\u001b[0m\n\u001b[1;32m    307\u001b[0m                                 for i, err in failed_args))\n\u001b[1;32m    308\u001b[0m                 \u001b[0me\u001b[0m\u001b[1;33m.\u001b[0m\u001b[0mpatch_message\u001b[0m\u001b[1;33m(\u001b[0m\u001b[0mmsg\u001b[0m\u001b[1;33m)\u001b[0m\u001b[1;33m\u001b[0m\u001b[0m\n\u001b[0;32m--> 309\u001b[0;31m             \u001b[1;32mraise\u001b[0m \u001b[0me\u001b[0m\u001b[1;33m\u001b[0m\u001b[0m\n\u001b[0m\u001b[1;32m    310\u001b[0m \u001b[1;33m\u001b[0m\u001b[0m\n\u001b[1;32m    311\u001b[0m     \u001b[1;32mdef\u001b[0m \u001b[0minspect_llvm\u001b[0m\u001b[1;33m(\u001b[0m\u001b[0mself\u001b[0m\u001b[1;33m,\u001b[0m \u001b[0msignature\u001b[0m\u001b[1;33m=\u001b[0m\u001b[0mNone\u001b[0m\u001b[1;33m)\u001b[0m\u001b[1;33m:\u001b[0m\u001b[1;33m\u001b[0m\u001b[0m\n",
      "\u001b[0;31mTypingError\u001b[0m: Caused By:\nTraceback (most recent call last):\n  File \"C:\\Users\\rbj428\\AppData\\Local\\Continuum\\Anaconda2_3\\lib\\site-packages\\numba\\compiler.py\", line 228, in run\n    stage()\n  File \"C:\\Users\\rbj428\\AppData\\Local\\Continuum\\Anaconda2_3\\lib\\site-packages\\numba\\compiler.py\", line 442, in stage_nopython_frontend\n    self.locals)\n  File \"C:\\Users\\rbj428\\AppData\\Local\\Continuum\\Anaconda2_3\\lib\\site-packages\\numba\\compiler.py\", line 794, in type_inference_stage\n    infer.propagate()\n  File \"C:\\Users\\rbj428\\AppData\\Local\\Continuum\\Anaconda2_3\\lib\\site-packages\\numba\\typeinfer.py\", line 767, in propagate\n    raise errors[0]\nTypingError: Invalid usage of getitem with parameters (pyobject, int64)\n * parameterized\nFile \"<ipython-input-519-87ec9957496c>\", line 27\n[1] During: typing of intrinsic-call at <ipython-input-519-87ec9957496c> (27)\n\nFailed at nopython (nopython frontend)\nInvalid usage of getitem with parameters (pyobject, int64)\n * parameterized\nFile \"<ipython-input-519-87ec9957496c>\", line 27\n[1] During: typing of intrinsic-call at <ipython-input-519-87ec9957496c> (27)\n\nThis error may have been caused by the following argument(s):\n- argument 9: Unsupported array dtype: object\n"
     ]
    }
   ],
   "source": [
    "maximum_diameters = MaximumDiameters(state, trajectory)"
   ]
  },
  {
   "cell_type": "code",
   "execution_count": 1,
   "metadata": {
    "collapsed": false
   },
   "outputs": [],
   "source": [
    "%load_ext Cython"
   ]
  },
  {
   "cell_type": "code",
   "execution_count": 3,
   "metadata": {
    "collapsed": true
   },
   "outputs": [],
   "source": [
    "try:\n",
    "    from setuptools import setup\n",
    "    from setuptools import Extension\n",
    "except ImportError:\n",
    "    from distutils.core import setup\n",
    "    from distutils.extension import Extension"
   ]
  },
  {
   "cell_type": "code",
   "execution_count": 529,
   "metadata": {
    "collapsed": false
   },
   "outputs": [
    {
     "ename": "SyntaxError",
     "evalue": "invalid syntax (<ipython-input-529-7153a453421b>, line 1)",
     "output_type": "error",
     "traceback": [
      "\u001b[0;36m  File \u001b[0;32m\"<ipython-input-529-7153a453421b>\"\u001b[0;36m, line \u001b[0;32m1\u001b[0m\n\u001b[0;31m    from libcpp.string cimport string\u001b[0m\n\u001b[0m                             ^\u001b[0m\n\u001b[0;31mSyntaxError\u001b[0m\u001b[0;31m:\u001b[0m invalid syntax\n"
     ]
    }
   ],
   "source": [
    "from libcpp.string cimport string\n",
    "from libcpp.vector cimport vector\n",
    "\n",
    "cdef string s = py_bytes_object\n",
    "print(s)\n",
    "cpp_string = <string> py_unicode_object.encode('utf-8')\n",
    "\n",
    "cdef vector[int] vect = xrange(1, 10, 2)\n",
    "print(vect)              # [1, 3, 5, 7, 9]\n",
    "\n",
    "cdef vector[string] cpp_strings = b'ab cd ef gh'.split()\n",
    "print(cpp_strings[1])   # b'cd'"
   ]
  },
  {
   "cell_type": "code",
   "execution_count": 2,
   "metadata": {
    "collapsed": false
   },
   "outputs": [
    {
     "ename": "DistutilsPlatformError",
     "evalue": "Unable to find vcvarsall.bat",
     "output_type": "error",
     "traceback": [
      "\u001b[0;31m---------------------------------------------------------------------------\u001b[0m",
      "\u001b[0;31mDistutilsPlatformError\u001b[0m                    Traceback (most recent call last)",
      "\u001b[0;32m<ipython-input-2-33c715d6813c>\u001b[0m in \u001b[0;36m<module>\u001b[0;34m()\u001b[0m\n\u001b[0;32m----> 1\u001b[0;31m \u001b[0mget_ipython\u001b[0m\u001b[1;33m(\u001b[0m\u001b[1;33m)\u001b[0m\u001b[1;33m.\u001b[0m\u001b[0mrun_cell_magic\u001b[0m\u001b[1;33m(\u001b[0m\u001b[1;34mu'cython'\u001b[0m\u001b[1;33m,\u001b[0m \u001b[1;34mu''\u001b[0m\u001b[1;33m,\u001b[0m \u001b[1;34mu'cdef int a = 0\\nfor i in range(10):\\n    a += i\\nprint(a)'\u001b[0m\u001b[1;33m)\u001b[0m\u001b[1;33m\u001b[0m\u001b[0m\n\u001b[0m",
      "\u001b[0;32mC:\\Users\\rbj428\\AppData\\Local\\Continuum\\Anaconda2_3\\lib\\site-packages\\IPython\\core\\interactiveshell.pyc\u001b[0m in \u001b[0;36mrun_cell_magic\u001b[0;34m(self, magic_name, line, cell)\u001b[0m\n\u001b[1;32m   2113\u001b[0m             \u001b[0mmagic_arg_s\u001b[0m \u001b[1;33m=\u001b[0m \u001b[0mself\u001b[0m\u001b[1;33m.\u001b[0m\u001b[0mvar_expand\u001b[0m\u001b[1;33m(\u001b[0m\u001b[0mline\u001b[0m\u001b[1;33m,\u001b[0m \u001b[0mstack_depth\u001b[0m\u001b[1;33m)\u001b[0m\u001b[1;33m\u001b[0m\u001b[0m\n\u001b[1;32m   2114\u001b[0m             \u001b[1;32mwith\u001b[0m \u001b[0mself\u001b[0m\u001b[1;33m.\u001b[0m\u001b[0mbuiltin_trap\u001b[0m\u001b[1;33m:\u001b[0m\u001b[1;33m\u001b[0m\u001b[0m\n\u001b[0;32m-> 2115\u001b[0;31m                 \u001b[0mresult\u001b[0m \u001b[1;33m=\u001b[0m \u001b[0mfn\u001b[0m\u001b[1;33m(\u001b[0m\u001b[0mmagic_arg_s\u001b[0m\u001b[1;33m,\u001b[0m \u001b[0mcell\u001b[0m\u001b[1;33m)\u001b[0m\u001b[1;33m\u001b[0m\u001b[0m\n\u001b[0m\u001b[1;32m   2116\u001b[0m             \u001b[1;32mreturn\u001b[0m \u001b[0mresult\u001b[0m\u001b[1;33m\u001b[0m\u001b[0m\n\u001b[1;32m   2117\u001b[0m \u001b[1;33m\u001b[0m\u001b[0m\n",
      "\u001b[0;32m<decorator-gen-125>\u001b[0m in \u001b[0;36mcython\u001b[0;34m(self, line, cell)\u001b[0m\n",
      "\u001b[0;32mC:\\Users\\rbj428\\AppData\\Local\\Continuum\\Anaconda2_3\\lib\\site-packages\\IPython\\core\\magic.pyc\u001b[0m in \u001b[0;36m<lambda>\u001b[0;34m(f, *a, **k)\u001b[0m\n\u001b[1;32m    186\u001b[0m     \u001b[1;31m# but it's overkill for just that one bit of state.\u001b[0m\u001b[1;33m\u001b[0m\u001b[1;33m\u001b[0m\u001b[0m\n\u001b[1;32m    187\u001b[0m     \u001b[1;32mdef\u001b[0m \u001b[0mmagic_deco\u001b[0m\u001b[1;33m(\u001b[0m\u001b[0marg\u001b[0m\u001b[1;33m)\u001b[0m\u001b[1;33m:\u001b[0m\u001b[1;33m\u001b[0m\u001b[0m\n\u001b[0;32m--> 188\u001b[0;31m         \u001b[0mcall\u001b[0m \u001b[1;33m=\u001b[0m \u001b[1;32mlambda\u001b[0m \u001b[0mf\u001b[0m\u001b[1;33m,\u001b[0m \u001b[1;33m*\u001b[0m\u001b[0ma\u001b[0m\u001b[1;33m,\u001b[0m \u001b[1;33m**\u001b[0m\u001b[0mk\u001b[0m\u001b[1;33m:\u001b[0m \u001b[0mf\u001b[0m\u001b[1;33m(\u001b[0m\u001b[1;33m*\u001b[0m\u001b[0ma\u001b[0m\u001b[1;33m,\u001b[0m \u001b[1;33m**\u001b[0m\u001b[0mk\u001b[0m\u001b[1;33m)\u001b[0m\u001b[1;33m\u001b[0m\u001b[0m\n\u001b[0m\u001b[1;32m    189\u001b[0m \u001b[1;33m\u001b[0m\u001b[0m\n\u001b[1;32m    190\u001b[0m         \u001b[1;32mif\u001b[0m \u001b[0mcallable\u001b[0m\u001b[1;33m(\u001b[0m\u001b[0marg\u001b[0m\u001b[1;33m)\u001b[0m\u001b[1;33m:\u001b[0m\u001b[1;33m\u001b[0m\u001b[0m\n",
      "\u001b[0;32mC:\\Users\\rbj428\\AppData\\Local\\Continuum\\Anaconda2_3\\lib\\site-packages\\Cython\\Build\\IpythonMagic.pyc\u001b[0m in \u001b[0;36mcython\u001b[0;34m(self, line, cell)\u001b[0m\n\u001b[1;32m    304\u001b[0m             \u001b[0mbuild_extension\u001b[0m\u001b[1;33m.\u001b[0m\u001b[0mbuild_temp\u001b[0m \u001b[1;33m=\u001b[0m \u001b[0mos\u001b[0m\u001b[1;33m.\u001b[0m\u001b[0mpath\u001b[0m\u001b[1;33m.\u001b[0m\u001b[0mdirname\u001b[0m\u001b[1;33m(\u001b[0m\u001b[0mpyx_file\u001b[0m\u001b[1;33m)\u001b[0m\u001b[1;33m\u001b[0m\u001b[0m\n\u001b[1;32m    305\u001b[0m             \u001b[0mbuild_extension\u001b[0m\u001b[1;33m.\u001b[0m\u001b[0mbuild_lib\u001b[0m \u001b[1;33m=\u001b[0m \u001b[0mlib_dir\u001b[0m\u001b[1;33m\u001b[0m\u001b[0m\n\u001b[0;32m--> 306\u001b[0;31m             \u001b[0mbuild_extension\u001b[0m\u001b[1;33m.\u001b[0m\u001b[0mrun\u001b[0m\u001b[1;33m(\u001b[0m\u001b[1;33m)\u001b[0m\u001b[1;33m\u001b[0m\u001b[0m\n\u001b[0m\u001b[1;32m    307\u001b[0m             \u001b[0mself\u001b[0m\u001b[1;33m.\u001b[0m\u001b[0m_code_cache\u001b[0m\u001b[1;33m[\u001b[0m\u001b[0mkey\u001b[0m\u001b[1;33m]\u001b[0m \u001b[1;33m=\u001b[0m \u001b[0mmodule_name\u001b[0m\u001b[1;33m\u001b[0m\u001b[0m\n\u001b[1;32m    308\u001b[0m \u001b[1;33m\u001b[0m\u001b[0m\n",
      "\u001b[0;32mC:\\Users\\rbj428\\AppData\\Local\\Continuum\\Anaconda2_3\\lib\\distutils\\command\\build_ext.pyc\u001b[0m in \u001b[0;36mrun\u001b[0;34m(self)\u001b[0m\n\u001b[1;32m    338\u001b[0m \u001b[1;33m\u001b[0m\u001b[0m\n\u001b[1;32m    339\u001b[0m         \u001b[1;31m# Now actually compile and link everything.\u001b[0m\u001b[1;33m\u001b[0m\u001b[1;33m\u001b[0m\u001b[0m\n\u001b[0;32m--> 340\u001b[0;31m         \u001b[0mself\u001b[0m\u001b[1;33m.\u001b[0m\u001b[0mbuild_extensions\u001b[0m\u001b[1;33m(\u001b[0m\u001b[1;33m)\u001b[0m\u001b[1;33m\u001b[0m\u001b[0m\n\u001b[0m\u001b[1;32m    341\u001b[0m \u001b[1;33m\u001b[0m\u001b[0m\n\u001b[1;32m    342\u001b[0m     \u001b[1;32mdef\u001b[0m \u001b[0mcheck_extensions_list\u001b[0m\u001b[1;33m(\u001b[0m\u001b[0mself\u001b[0m\u001b[1;33m,\u001b[0m \u001b[0mextensions\u001b[0m\u001b[1;33m)\u001b[0m\u001b[1;33m:\u001b[0m\u001b[1;33m\u001b[0m\u001b[0m\n",
      "\u001b[0;32mC:\\Users\\rbj428\\AppData\\Local\\Continuum\\Anaconda2_3\\lib\\distutils\\command\\build_ext.pyc\u001b[0m in \u001b[0;36mbuild_extensions\u001b[0;34m(self)\u001b[0m\n\u001b[1;32m    447\u001b[0m \u001b[1;33m\u001b[0m\u001b[0m\n\u001b[1;32m    448\u001b[0m         \u001b[1;32mfor\u001b[0m \u001b[0mext\u001b[0m \u001b[1;32min\u001b[0m \u001b[0mself\u001b[0m\u001b[1;33m.\u001b[0m\u001b[0mextensions\u001b[0m\u001b[1;33m:\u001b[0m\u001b[1;33m\u001b[0m\u001b[0m\n\u001b[0;32m--> 449\u001b[0;31m             \u001b[0mself\u001b[0m\u001b[1;33m.\u001b[0m\u001b[0mbuild_extension\u001b[0m\u001b[1;33m(\u001b[0m\u001b[0mext\u001b[0m\u001b[1;33m)\u001b[0m\u001b[1;33m\u001b[0m\u001b[0m\n\u001b[0m\u001b[1;32m    450\u001b[0m \u001b[1;33m\u001b[0m\u001b[0m\n\u001b[1;32m    451\u001b[0m     \u001b[1;32mdef\u001b[0m \u001b[0mbuild_extension\u001b[0m\u001b[1;33m(\u001b[0m\u001b[0mself\u001b[0m\u001b[1;33m,\u001b[0m \u001b[0mext\u001b[0m\u001b[1;33m)\u001b[0m\u001b[1;33m:\u001b[0m\u001b[1;33m\u001b[0m\u001b[0m\n",
      "\u001b[0;32mC:\\Users\\rbj428\\AppData\\Local\\Continuum\\Anaconda2_3\\lib\\distutils\\command\\build_ext.pyc\u001b[0m in \u001b[0;36mbuild_extension\u001b[0;34m(self, ext)\u001b[0m\n\u001b[1;32m    497\u001b[0m                                          \u001b[0mdebug\u001b[0m\u001b[1;33m=\u001b[0m\u001b[0mself\u001b[0m\u001b[1;33m.\u001b[0m\u001b[0mdebug\u001b[0m\u001b[1;33m,\u001b[0m\u001b[1;33m\u001b[0m\u001b[0m\n\u001b[1;32m    498\u001b[0m                                          \u001b[0mextra_postargs\u001b[0m\u001b[1;33m=\u001b[0m\u001b[0mextra_args\u001b[0m\u001b[1;33m,\u001b[0m\u001b[1;33m\u001b[0m\u001b[0m\n\u001b[0;32m--> 499\u001b[0;31m                                          depends=ext.depends)\n\u001b[0m\u001b[1;32m    500\u001b[0m \u001b[1;33m\u001b[0m\u001b[0m\n\u001b[1;32m    501\u001b[0m         \u001b[1;31m# XXX -- this is a Vile HACK!\u001b[0m\u001b[1;33m\u001b[0m\u001b[1;33m\u001b[0m\u001b[0m\n",
      "\u001b[0;32mC:\\Users\\rbj428\\AppData\\Local\\Continuum\\Anaconda2_3\\lib\\distutils\\msvc9compiler.pyc\u001b[0m in \u001b[0;36mcompile\u001b[0;34m(self, sources, output_dir, macros, include_dirs, debug, extra_preargs, extra_postargs, depends)\u001b[0m\n\u001b[1;32m    471\u001b[0m \u001b[1;33m\u001b[0m\u001b[0m\n\u001b[1;32m    472\u001b[0m         \u001b[1;32mif\u001b[0m \u001b[1;32mnot\u001b[0m \u001b[0mself\u001b[0m\u001b[1;33m.\u001b[0m\u001b[0minitialized\u001b[0m\u001b[1;33m:\u001b[0m\u001b[1;33m\u001b[0m\u001b[0m\n\u001b[0;32m--> 473\u001b[0;31m             \u001b[0mself\u001b[0m\u001b[1;33m.\u001b[0m\u001b[0minitialize\u001b[0m\u001b[1;33m(\u001b[0m\u001b[1;33m)\u001b[0m\u001b[1;33m\u001b[0m\u001b[0m\n\u001b[0m\u001b[1;32m    474\u001b[0m         compile_info = self._setup_compile(output_dir, macros, include_dirs,\n\u001b[1;32m    475\u001b[0m                                            sources, depends, extra_postargs)\n",
      "\u001b[0;32mC:\\Users\\rbj428\\AppData\\Local\\Continuum\\Anaconda2_3\\lib\\distutils\\msvc9compiler.pyc\u001b[0m in \u001b[0;36minitialize\u001b[0;34m(self, plat_name)\u001b[0m\n\u001b[1;32m    381\u001b[0m                             \u001b[0mPLAT_TO_VCVARS\u001b[0m\u001b[1;33m[\u001b[0m\u001b[0mplat_name\u001b[0m\u001b[1;33m]\u001b[0m\u001b[1;33m\u001b[0m\u001b[0m\n\u001b[1;32m    382\u001b[0m \u001b[1;33m\u001b[0m\u001b[0m\n\u001b[0;32m--> 383\u001b[0;31m             \u001b[0mvc_env\u001b[0m \u001b[1;33m=\u001b[0m \u001b[0mquery_vcvarsall\u001b[0m\u001b[1;33m(\u001b[0m\u001b[0mVERSION\u001b[0m\u001b[1;33m,\u001b[0m \u001b[0mplat_spec\u001b[0m\u001b[1;33m)\u001b[0m\u001b[1;33m\u001b[0m\u001b[0m\n\u001b[0m\u001b[1;32m    384\u001b[0m \u001b[1;33m\u001b[0m\u001b[0m\n\u001b[1;32m    385\u001b[0m             \u001b[1;31m# take care to only use strings in the environment.\u001b[0m\u001b[1;33m\u001b[0m\u001b[1;33m\u001b[0m\u001b[0m\n",
      "\u001b[0;32mC:\\Users\\rbj428\\AppData\\Local\\Continuum\\Anaconda2_3\\lib\\distutils\\msvc9compiler.pyc\u001b[0m in \u001b[0;36mquery_vcvarsall\u001b[0;34m(version, arch)\u001b[0m\n\u001b[1;32m    269\u001b[0m \u001b[1;33m\u001b[0m\u001b[0m\n\u001b[1;32m    270\u001b[0m     \u001b[1;32mif\u001b[0m \u001b[0mvcvarsall\u001b[0m \u001b[1;32mis\u001b[0m \u001b[0mNone\u001b[0m\u001b[1;33m:\u001b[0m\u001b[1;33m\u001b[0m\u001b[0m\n\u001b[0;32m--> 271\u001b[0;31m         \u001b[1;32mraise\u001b[0m \u001b[0mDistutilsPlatformError\u001b[0m\u001b[1;33m(\u001b[0m\u001b[1;34m\"Unable to find vcvarsall.bat\"\u001b[0m\u001b[1;33m)\u001b[0m\u001b[1;33m\u001b[0m\u001b[0m\n\u001b[0m\u001b[1;32m    272\u001b[0m     \u001b[0mlog\u001b[0m\u001b[1;33m.\u001b[0m\u001b[0mdebug\u001b[0m\u001b[1;33m(\u001b[0m\u001b[1;34m\"Calling 'vcvarsall.bat %s' (version=%s)\"\u001b[0m\u001b[1;33m,\u001b[0m \u001b[0march\u001b[0m\u001b[1;33m,\u001b[0m \u001b[0mversion\u001b[0m\u001b[1;33m)\u001b[0m\u001b[1;33m\u001b[0m\u001b[0m\n\u001b[1;32m    273\u001b[0m     popen = subprocess.Popen('\"%s\" %s & set' % (vcvarsall, arch),\n",
      "\u001b[0;31mDistutilsPlatformError\u001b[0m: Unable to find vcvarsall.bat"
     ]
    }
   ],
   "source": [
    "%%cython\n",
    "cdef int a = 0\n",
    "for i in range(10):\n",
    "    a += i\n",
    "print(a)"
   ]
  },
  {
   "cell_type": "code",
   "execution_count": null,
   "metadata": {
    "collapsed": true
   },
   "outputs": [],
   "source": []
  }
 ],
 "metadata": {
  "kernelspec": {
   "display_name": "Python 2",
   "language": "python",
   "name": "python2"
  },
  "language_info": {
   "codemirror_mode": {
    "name": "ipython",
    "version": 2
   },
   "file_extension": ".py",
   "mimetype": "text/x-python",
   "name": "python",
   "nbconvert_exporter": "python",
   "pygments_lexer": "ipython2",
   "version": "2.7.13"
  }
 },
 "nbformat": 4,
 "nbformat_minor": 2
}
